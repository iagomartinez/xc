{
 "cells": [
  {
   "cell_type": "code",
   "execution_count": 6,
   "metadata": {},
   "outputs": [],
   "source": [
    "import sys\n",
    "from pathlib import Path\n",
    "import re\n",
    "import pandas as pd\n",
    "import numpy as np\n",
    "from IPython.display import display\n",
    "\n",
    "sys.path.insert(1, '..') #add repo packages (dinolytics)\n",
    "from xc import sotcca\n",
    "\n"
   ]
  },
  {
   "cell_type": "code",
   "execution_count": 7,
   "metadata": {},
   "outputs": [
    {
     "name": "stdout",
     "output_type": "stream",
     "text": [
      "position     int64\n",
      "mw          object\n",
      "score       object\n",
      "name        object\n",
      "category    object\n",
      "time        object\n",
      "dtype: object\n"
     ]
    }
   ],
   "source": [
    "data = Path('../data')\n",
    "file = data / 'sotcca_champs.txt'\n",
    "\n",
    "df_w, df_m = sotcca.extract(file)\n",
    "\n",
    "df_w.sort_values(by='position').to_csv(data / 'women.csv', index=False)\n",
    "df_m.sort_values(by='position').to_csv(data / 'men.csv', index=False)"
   ]
  }
 ],
 "metadata": {
  "interpreter": {
   "hash": "4f3c17ff72803bf2462fcd8050b1468eccc7c2b83d39ce0eb9b25226fa20534a"
  },
  "kernelspec": {
   "display_name": "Python 3.7.2 64-bit ('i-heart-data': conda)",
   "language": "python",
   "name": "python3"
  },
  "language_info": {
   "codemirror_mode": {
    "name": "ipython",
    "version": 3
   },
   "file_extension": ".py",
   "mimetype": "text/x-python",
   "name": "python",
   "nbconvert_exporter": "python",
   "pygments_lexer": "ipython3",
   "version": "3.7.2"
  },
  "orig_nbformat": 4
 },
 "nbformat": 4,
 "nbformat_minor": 2
}
